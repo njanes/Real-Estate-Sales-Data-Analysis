{
  "cells": [
    {
      "cell_type": "markdown",
      "metadata": {},
      "source": [
        "# Real Estate Sales Data Analysis\n",
        "### King County, Washington State, USA"
      ]
    },
    {
      "cell_type": "markdown",
      "metadata": {},
      "source": [
        "<p style=\"text-align:center\">\n",
        "    <img src=\"https://wahospitality.org/wp-content/uploads/2023/06/KingCountyHomepage-958-%C3%97-558-px.png\" width=\"500\" alt=\"King County, WA\" align=\"left\">\n",
        "    </a>\n",
        "</p>"
      ]
    },
    {
      "cell_type": "markdown",
      "metadata": {},
      "source": [
        "## Dataset Description"
      ]
    },
    {
      "cell_type": "markdown",
      "metadata": {},
      "source": [
        "This dataset comprises real estate sales prices and related metrics for King County, WA. Dates range from 2014 to 2015.\n"
      ]
    },
    {
      "cell_type": "markdown",
      "metadata": {},
      "source": [
        "| Variable      | Description                                |\n",
        "| ------------- | ------------------------------------------ |\n",
        "| id            | House identification number                |\n",
        "| date          | Date of sale                               |\n",
        "| price         | Sale price (prediction target variable)    |\n",
        "| bedrooms      | Number of bedrooms                         |\n",
        "| bathrooms     | Number of bathrooms                        |\n",
        "| sqft_living   | Square footage of the home                 |\n",
        "| sqft_living15 | Square footage of the home in 2015         |\n",
        "| sqft_lot      | Square footage of the lot                  |\n",
        "| floors        | Total floors (levels) in house             |\n",
        "| waterfront    | House with waterfront view                 |\n",
        "| view          | Has been viewed                            |\n",
        "| condition     | Overall dwelling condition                 |\n",
        "| grade         | House grade (King County grading system)   |\n",
        "| sqft_above    | Square footage of the house above ground   |\n",
        "| sqft_basement | Square footage of the basement             |\n",
        "| yr_built      | Year built                                 |\n",
        "| yr_renovated  | Year of house renovation                   |\n",
        "| zipcode       | Zip code                                   |\n",
        "| lat           | Latitude coordinate                        |\n",
        "| long          | Longitude coordinate                       |\n",
        "\n",
        "\n"
      ]
    },
    {
      "cell_type": "markdown",
      "metadata": {},
      "source": [
        "## Libraries\n",
        "To begin, I import the necessary libraries"
      ]
    },
    {
      "cell_type": "code",
      "execution_count": 1,
      "metadata": {
        "trusted": true
      },
      "outputs": [],
      "source": [
        "import pandas as pd\n",
        "import matplotlib.pyplot as plt\n",
        "import numpy as np\n",
        "import seaborn as sns\n",
        "from sklearn.pipeline import Pipeline\n",
        "from sklearn.preprocessing import StandardScaler,PolynomialFeatures\n",
        "from sklearn.linear_model import LinearRegression\n",
        "%matplotlib inline"
      ]
    },
    {
      "cell_type": "markdown",
      "metadata": {},
      "source": [
        "## Reading Dataset"
      ]
    },
    {
      "cell_type": "markdown",
      "metadata": {},
      "source": [
        "Next, I read in the dataset .csv file to a Pandas data frame with the `read_csv()` method"
      ]
    },
    {
      "cell_type": "code",
      "execution_count": 2,
      "metadata": {
        "trusted": true
      },
      "outputs": [],
      "source": [
        "data = pd.read_csv(\"realestate_salesdata.csv\", index_col=0)"
      ]
    },
    {
      "cell_type": "markdown",
      "metadata": {},
      "source": [
        "Displaying the leading 5 rows of the data frame with the `head()` method:"
      ]
    },
    {
      "cell_type": "code",
      "execution_count": 3,
      "metadata": {
        "trusted": true
      },
      "outputs": [
        {
          "data": {
            "text/html": [
              "<div>\n",
              "<style scoped>\n",
              "    .dataframe tbody tr th:only-of-type {\n",
              "        vertical-align: middle;\n",
              "    }\n",
              "\n",
              "    .dataframe tbody tr th {\n",
              "        vertical-align: top;\n",
              "    }\n",
              "\n",
              "    .dataframe thead th {\n",
              "        text-align: right;\n",
              "    }\n",
              "</style>\n",
              "<table border=\"1\" class=\"dataframe\">\n",
              "  <thead>\n",
              "    <tr style=\"text-align: right;\">\n",
              "      <th></th>\n",
              "      <th>id</th>\n",
              "      <th>date</th>\n",
              "      <th>price</th>\n",
              "      <th>bedrooms</th>\n",
              "      <th>bathrooms</th>\n",
              "      <th>sqft_living</th>\n",
              "      <th>sqft_living15</th>\n",
              "      <th>sqft_lot</th>\n",
              "      <th>sqft_lot15</th>\n",
              "      <th>floors</th>\n",
              "      <th>...</th>\n",
              "      <th>view</th>\n",
              "      <th>condition</th>\n",
              "      <th>grade</th>\n",
              "      <th>sqft_above</th>\n",
              "      <th>sqft_basement</th>\n",
              "      <th>yr_built</th>\n",
              "      <th>yr_renovated</th>\n",
              "      <th>zipcode</th>\n",
              "      <th>lat</th>\n",
              "      <th>long</th>\n",
              "    </tr>\n",
              "  </thead>\n",
              "  <tbody>\n",
              "    <tr>\n",
              "      <th>0</th>\n",
              "      <td>7129300520</td>\n",
              "      <td>20141013T000000</td>\n",
              "      <td>221900</td>\n",
              "      <td>3.0</td>\n",
              "      <td>1.00</td>\n",
              "      <td>1180</td>\n",
              "      <td>1340</td>\n",
              "      <td>5650</td>\n",
              "      <td>5650</td>\n",
              "      <td>1.0</td>\n",
              "      <td>...</td>\n",
              "      <td>0</td>\n",
              "      <td>3</td>\n",
              "      <td>7</td>\n",
              "      <td>1180</td>\n",
              "      <td>0</td>\n",
              "      <td>1955</td>\n",
              "      <td>0</td>\n",
              "      <td>98178</td>\n",
              "      <td>47.5112</td>\n",
              "      <td>-122.257</td>\n",
              "    </tr>\n",
              "    <tr>\n",
              "      <th>1</th>\n",
              "      <td>6414100192</td>\n",
              "      <td>20141209T000000</td>\n",
              "      <td>538000</td>\n",
              "      <td>3.0</td>\n",
              "      <td>2.25</td>\n",
              "      <td>2570</td>\n",
              "      <td>1690</td>\n",
              "      <td>7242</td>\n",
              "      <td>7639</td>\n",
              "      <td>2.0</td>\n",
              "      <td>...</td>\n",
              "      <td>0</td>\n",
              "      <td>3</td>\n",
              "      <td>7</td>\n",
              "      <td>2170</td>\n",
              "      <td>400</td>\n",
              "      <td>1951</td>\n",
              "      <td>1991</td>\n",
              "      <td>98125</td>\n",
              "      <td>47.7210</td>\n",
              "      <td>-122.319</td>\n",
              "    </tr>\n",
              "    <tr>\n",
              "      <th>2</th>\n",
              "      <td>5631500400</td>\n",
              "      <td>20150225T000000</td>\n",
              "      <td>180000</td>\n",
              "      <td>2.0</td>\n",
              "      <td>1.00</td>\n",
              "      <td>770</td>\n",
              "      <td>2720</td>\n",
              "      <td>10000</td>\n",
              "      <td>8062</td>\n",
              "      <td>1.0</td>\n",
              "      <td>...</td>\n",
              "      <td>0</td>\n",
              "      <td>3</td>\n",
              "      <td>6</td>\n",
              "      <td>770</td>\n",
              "      <td>0</td>\n",
              "      <td>1933</td>\n",
              "      <td>0</td>\n",
              "      <td>98028</td>\n",
              "      <td>47.7379</td>\n",
              "      <td>-122.233</td>\n",
              "    </tr>\n",
              "    <tr>\n",
              "      <th>3</th>\n",
              "      <td>2487200875</td>\n",
              "      <td>20141209T000000</td>\n",
              "      <td>604000</td>\n",
              "      <td>4.0</td>\n",
              "      <td>3.00</td>\n",
              "      <td>1960</td>\n",
              "      <td>1360</td>\n",
              "      <td>5000</td>\n",
              "      <td>5000</td>\n",
              "      <td>1.0</td>\n",
              "      <td>...</td>\n",
              "      <td>0</td>\n",
              "      <td>5</td>\n",
              "      <td>7</td>\n",
              "      <td>1050</td>\n",
              "      <td>910</td>\n",
              "      <td>1965</td>\n",
              "      <td>0</td>\n",
              "      <td>98136</td>\n",
              "      <td>47.5208</td>\n",
              "      <td>-122.393</td>\n",
              "    </tr>\n",
              "    <tr>\n",
              "      <th>4</th>\n",
              "      <td>1954400510</td>\n",
              "      <td>20150218T000000</td>\n",
              "      <td>510000</td>\n",
              "      <td>3.0</td>\n",
              "      <td>2.00</td>\n",
              "      <td>1680</td>\n",
              "      <td>1800</td>\n",
              "      <td>8080</td>\n",
              "      <td>7503</td>\n",
              "      <td>1.0</td>\n",
              "      <td>...</td>\n",
              "      <td>0</td>\n",
              "      <td>3</td>\n",
              "      <td>8</td>\n",
              "      <td>1680</td>\n",
              "      <td>0</td>\n",
              "      <td>1987</td>\n",
              "      <td>0</td>\n",
              "      <td>98074</td>\n",
              "      <td>47.6168</td>\n",
              "      <td>-122.045</td>\n",
              "    </tr>\n",
              "  </tbody>\n",
              "</table>\n",
              "<p>5 rows × 21 columns</p>\n",
              "</div>"
            ],
            "text/plain": [
              "           id             date   price  bedrooms  bathrooms  sqft_living  \\\n",
              "0  7129300520  20141013T000000  221900       3.0       1.00         1180   \n",
              "1  6414100192  20141209T000000  538000       3.0       2.25         2570   \n",
              "2  5631500400  20150225T000000  180000       2.0       1.00          770   \n",
              "3  2487200875  20141209T000000  604000       4.0       3.00         1960   \n",
              "4  1954400510  20150218T000000  510000       3.0       2.00         1680   \n",
              "\n",
              "   sqft_living15  sqft_lot  sqft_lot15  floors  ...  view  condition  grade  \\\n",
              "0           1340      5650        5650     1.0  ...     0          3      7   \n",
              "1           1690      7242        7639     2.0  ...     0          3      7   \n",
              "2           2720     10000        8062     1.0  ...     0          3      6   \n",
              "3           1360      5000        5000     1.0  ...     0          5      7   \n",
              "4           1800      8080        7503     1.0  ...     0          3      8   \n",
              "\n",
              "   sqft_above  sqft_basement  yr_built  yr_renovated  zipcode      lat  \\\n",
              "0        1180              0      1955             0    98178  47.5112   \n",
              "1        2170            400      1951          1991    98125  47.7210   \n",
              "2         770              0      1933             0    98028  47.7379   \n",
              "3        1050            910      1965             0    98136  47.5208   \n",
              "4        1680              0      1987             0    98074  47.6168   \n",
              "\n",
              "      long  \n",
              "0 -122.257  \n",
              "1 -122.319  \n",
              "2 -122.233  \n",
              "3 -122.393  \n",
              "4 -122.045  \n",
              "\n",
              "[5 rows x 21 columns]"
            ]
          },
          "execution_count": 3,
          "metadata": {},
          "output_type": "execute_result"
        }
      ],
      "source": [
        "data.head()"
      ]
    },
    {
      "cell_type": "markdown",
      "metadata": {},
      "source": [
        "## Summary Statistics\n",
        "\n",
        "I am interested in getting an overview of the dataset. Firstly, I will look at the data types of each column using the Pandas `dtypes` property\n"
      ]
    },
    {
      "cell_type": "code",
      "execution_count": 4,
      "metadata": {
        "trusted": true
      },
      "outputs": [
        {
          "data": {
            "text/plain": [
              "id                 int64\n",
              "date              object\n",
              "price              int64\n",
              "bedrooms         float64\n",
              "bathrooms        float64\n",
              "sqft_living        int64\n",
              "sqft_living15      int64\n",
              "sqft_lot           int64\n",
              "sqft_lot15         int64\n",
              "floors           float64\n",
              "waterfront         int64\n",
              "view               int64\n",
              "condition          int64\n",
              "grade              int64\n",
              "sqft_above         int64\n",
              "sqft_basement      int64\n",
              "yr_built           int64\n",
              "yr_renovated       int64\n",
              "zipcode            int64\n",
              "lat              float64\n",
              "long             float64\n",
              "dtype: object"
            ]
          },
          "execution_count": 4,
          "metadata": {},
          "output_type": "execute_result"
        }
      ],
      "source": [
        "data.dtypes"
      ]
    },
    {
      "cell_type": "markdown",
      "metadata": {},
      "source": [
        "I use the Pandas `describe()` method to return summary statistics of each numerical column. "
      ]
    },
    {
      "cell_type": "code",
      "execution_count": 5,
      "metadata": {
        "tags": [],
        "trusted": true
      },
      "outputs": [
        {
          "data": {
            "text/html": [
              "<div>\n",
              "<style scoped>\n",
              "    .dataframe tbody tr th:only-of-type {\n",
              "        vertical-align: middle;\n",
              "    }\n",
              "\n",
              "    .dataframe tbody tr th {\n",
              "        vertical-align: top;\n",
              "    }\n",
              "\n",
              "    .dataframe thead th {\n",
              "        text-align: right;\n",
              "    }\n",
              "</style>\n",
              "<table border=\"1\" class=\"dataframe\">\n",
              "  <thead>\n",
              "    <tr style=\"text-align: right;\">\n",
              "      <th></th>\n",
              "      <th>id</th>\n",
              "      <th>price</th>\n",
              "      <th>bedrooms</th>\n",
              "      <th>bathrooms</th>\n",
              "      <th>sqft_living</th>\n",
              "      <th>sqft_living15</th>\n",
              "      <th>sqft_lot</th>\n",
              "      <th>sqft_lot15</th>\n",
              "      <th>floors</th>\n",
              "      <th>waterfront</th>\n",
              "      <th>view</th>\n",
              "      <th>condition</th>\n",
              "      <th>grade</th>\n",
              "      <th>sqft_above</th>\n",
              "      <th>sqft_basement</th>\n",
              "      <th>yr_built</th>\n",
              "      <th>yr_renovated</th>\n",
              "      <th>zipcode</th>\n",
              "      <th>lat</th>\n",
              "      <th>long</th>\n",
              "    </tr>\n",
              "  </thead>\n",
              "  <tbody>\n",
              "    <tr>\n",
              "      <th>count</th>\n",
              "      <td>2.161300e+04</td>\n",
              "      <td>2.161300e+04</td>\n",
              "      <td>21600.000000</td>\n",
              "      <td>21603.000000</td>\n",
              "      <td>21613.000000</td>\n",
              "      <td>21613.000000</td>\n",
              "      <td>2.161300e+04</td>\n",
              "      <td>21613.000000</td>\n",
              "      <td>21613.000000</td>\n",
              "      <td>21613.000000</td>\n",
              "      <td>21613.000000</td>\n",
              "      <td>21613.000000</td>\n",
              "      <td>21613.000000</td>\n",
              "      <td>21613.000000</td>\n",
              "      <td>21613.000000</td>\n",
              "      <td>21613.000000</td>\n",
              "      <td>21613.000000</td>\n",
              "      <td>21613.000000</td>\n",
              "      <td>21613.000000</td>\n",
              "      <td>21613.000000</td>\n",
              "    </tr>\n",
              "    <tr>\n",
              "      <th>mean</th>\n",
              "      <td>4.580302e+09</td>\n",
              "      <td>5.400881e+05</td>\n",
              "      <td>3.372870</td>\n",
              "      <td>2.115736</td>\n",
              "      <td>2079.899736</td>\n",
              "      <td>1986.552492</td>\n",
              "      <td>1.510697e+04</td>\n",
              "      <td>12768.455652</td>\n",
              "      <td>1.494309</td>\n",
              "      <td>0.007542</td>\n",
              "      <td>0.234303</td>\n",
              "      <td>3.409430</td>\n",
              "      <td>7.656873</td>\n",
              "      <td>1788.390691</td>\n",
              "      <td>291.509045</td>\n",
              "      <td>1971.005136</td>\n",
              "      <td>84.402258</td>\n",
              "      <td>98077.939805</td>\n",
              "      <td>47.560053</td>\n",
              "      <td>-122.213896</td>\n",
              "    </tr>\n",
              "    <tr>\n",
              "      <th>std</th>\n",
              "      <td>2.876566e+09</td>\n",
              "      <td>3.671272e+05</td>\n",
              "      <td>0.926657</td>\n",
              "      <td>0.768996</td>\n",
              "      <td>918.440897</td>\n",
              "      <td>685.391304</td>\n",
              "      <td>4.142051e+04</td>\n",
              "      <td>27304.179631</td>\n",
              "      <td>0.539989</td>\n",
              "      <td>0.086517</td>\n",
              "      <td>0.766318</td>\n",
              "      <td>0.650743</td>\n",
              "      <td>1.175459</td>\n",
              "      <td>828.090978</td>\n",
              "      <td>442.575043</td>\n",
              "      <td>29.373411</td>\n",
              "      <td>401.679240</td>\n",
              "      <td>53.505026</td>\n",
              "      <td>0.138564</td>\n",
              "      <td>0.140828</td>\n",
              "    </tr>\n",
              "    <tr>\n",
              "      <th>min</th>\n",
              "      <td>1.000102e+06</td>\n",
              "      <td>7.500000e+04</td>\n",
              "      <td>1.000000</td>\n",
              "      <td>0.500000</td>\n",
              "      <td>290.000000</td>\n",
              "      <td>399.000000</td>\n",
              "      <td>5.200000e+02</td>\n",
              "      <td>651.000000</td>\n",
              "      <td>1.000000</td>\n",
              "      <td>0.000000</td>\n",
              "      <td>0.000000</td>\n",
              "      <td>1.000000</td>\n",
              "      <td>1.000000</td>\n",
              "      <td>290.000000</td>\n",
              "      <td>0.000000</td>\n",
              "      <td>1900.000000</td>\n",
              "      <td>0.000000</td>\n",
              "      <td>98001.000000</td>\n",
              "      <td>47.155900</td>\n",
              "      <td>-122.519000</td>\n",
              "    </tr>\n",
              "    <tr>\n",
              "      <th>25%</th>\n",
              "      <td>2.123049e+09</td>\n",
              "      <td>3.219500e+05</td>\n",
              "      <td>3.000000</td>\n",
              "      <td>1.750000</td>\n",
              "      <td>1427.000000</td>\n",
              "      <td>1490.000000</td>\n",
              "      <td>5.040000e+03</td>\n",
              "      <td>5100.000000</td>\n",
              "      <td>1.000000</td>\n",
              "      <td>0.000000</td>\n",
              "      <td>0.000000</td>\n",
              "      <td>3.000000</td>\n",
              "      <td>7.000000</td>\n",
              "      <td>1190.000000</td>\n",
              "      <td>0.000000</td>\n",
              "      <td>1951.000000</td>\n",
              "      <td>0.000000</td>\n",
              "      <td>98033.000000</td>\n",
              "      <td>47.471000</td>\n",
              "      <td>-122.328000</td>\n",
              "    </tr>\n",
              "    <tr>\n",
              "      <th>50%</th>\n",
              "      <td>3.904930e+09</td>\n",
              "      <td>4.500000e+05</td>\n",
              "      <td>3.000000</td>\n",
              "      <td>2.250000</td>\n",
              "      <td>1910.000000</td>\n",
              "      <td>1840.000000</td>\n",
              "      <td>7.618000e+03</td>\n",
              "      <td>7620.000000</td>\n",
              "      <td>1.500000</td>\n",
              "      <td>0.000000</td>\n",
              "      <td>0.000000</td>\n",
              "      <td>3.000000</td>\n",
              "      <td>7.000000</td>\n",
              "      <td>1560.000000</td>\n",
              "      <td>0.000000</td>\n",
              "      <td>1975.000000</td>\n",
              "      <td>0.000000</td>\n",
              "      <td>98065.000000</td>\n",
              "      <td>47.571800</td>\n",
              "      <td>-122.230000</td>\n",
              "    </tr>\n",
              "    <tr>\n",
              "      <th>75%</th>\n",
              "      <td>7.308900e+09</td>\n",
              "      <td>6.450000e+05</td>\n",
              "      <td>4.000000</td>\n",
              "      <td>2.500000</td>\n",
              "      <td>2550.000000</td>\n",
              "      <td>2360.000000</td>\n",
              "      <td>1.068800e+04</td>\n",
              "      <td>10083.000000</td>\n",
              "      <td>2.000000</td>\n",
              "      <td>0.000000</td>\n",
              "      <td>0.000000</td>\n",
              "      <td>4.000000</td>\n",
              "      <td>8.000000</td>\n",
              "      <td>2210.000000</td>\n",
              "      <td>560.000000</td>\n",
              "      <td>1997.000000</td>\n",
              "      <td>0.000000</td>\n",
              "      <td>98118.000000</td>\n",
              "      <td>47.678000</td>\n",
              "      <td>-122.125000</td>\n",
              "    </tr>\n",
              "    <tr>\n",
              "      <th>max</th>\n",
              "      <td>9.900000e+09</td>\n",
              "      <td>7.700000e+06</td>\n",
              "      <td>33.000000</td>\n",
              "      <td>8.000000</td>\n",
              "      <td>13540.000000</td>\n",
              "      <td>6210.000000</td>\n",
              "      <td>1.651359e+06</td>\n",
              "      <td>871200.000000</td>\n",
              "      <td>3.500000</td>\n",
              "      <td>1.000000</td>\n",
              "      <td>4.000000</td>\n",
              "      <td>5.000000</td>\n",
              "      <td>13.000000</td>\n",
              "      <td>9410.000000</td>\n",
              "      <td>4820.000000</td>\n",
              "      <td>2015.000000</td>\n",
              "      <td>2015.000000</td>\n",
              "      <td>98199.000000</td>\n",
              "      <td>47.777600</td>\n",
              "      <td>-121.315000</td>\n",
              "    </tr>\n",
              "  </tbody>\n",
              "</table>\n",
              "</div>"
            ],
            "text/plain": [
              "                 id         price      bedrooms     bathrooms   sqft_living  \\\n",
              "count  2.161300e+04  2.161300e+04  21600.000000  21603.000000  21613.000000   \n",
              "mean   4.580302e+09  5.400881e+05      3.372870      2.115736   2079.899736   \n",
              "std    2.876566e+09  3.671272e+05      0.926657      0.768996    918.440897   \n",
              "min    1.000102e+06  7.500000e+04      1.000000      0.500000    290.000000   \n",
              "25%    2.123049e+09  3.219500e+05      3.000000      1.750000   1427.000000   \n",
              "50%    3.904930e+09  4.500000e+05      3.000000      2.250000   1910.000000   \n",
              "75%    7.308900e+09  6.450000e+05      4.000000      2.500000   2550.000000   \n",
              "max    9.900000e+09  7.700000e+06     33.000000      8.000000  13540.000000   \n",
              "\n",
              "       sqft_living15      sqft_lot     sqft_lot15        floors    waterfront  \\\n",
              "count   21613.000000  2.161300e+04   21613.000000  21613.000000  21613.000000   \n",
              "mean     1986.552492  1.510697e+04   12768.455652      1.494309      0.007542   \n",
              "std       685.391304  4.142051e+04   27304.179631      0.539989      0.086517   \n",
              "min       399.000000  5.200000e+02     651.000000      1.000000      0.000000   \n",
              "25%      1490.000000  5.040000e+03    5100.000000      1.000000      0.000000   \n",
              "50%      1840.000000  7.618000e+03    7620.000000      1.500000      0.000000   \n",
              "75%      2360.000000  1.068800e+04   10083.000000      2.000000      0.000000   \n",
              "max      6210.000000  1.651359e+06  871200.000000      3.500000      1.000000   \n",
              "\n",
              "               view     condition         grade    sqft_above  sqft_basement  \\\n",
              "count  21613.000000  21613.000000  21613.000000  21613.000000   21613.000000   \n",
              "mean       0.234303      3.409430      7.656873   1788.390691     291.509045   \n",
              "std        0.766318      0.650743      1.175459    828.090978     442.575043   \n",
              "min        0.000000      1.000000      1.000000    290.000000       0.000000   \n",
              "25%        0.000000      3.000000      7.000000   1190.000000       0.000000   \n",
              "50%        0.000000      3.000000      7.000000   1560.000000       0.000000   \n",
              "75%        0.000000      4.000000      8.000000   2210.000000     560.000000   \n",
              "max        4.000000      5.000000     13.000000   9410.000000    4820.000000   \n",
              "\n",
              "           yr_built  yr_renovated       zipcode           lat          long  \n",
              "count  21613.000000  21613.000000  21613.000000  21613.000000  21613.000000  \n",
              "mean    1971.005136     84.402258  98077.939805     47.560053   -122.213896  \n",
              "std       29.373411    401.679240     53.505026      0.138564      0.140828  \n",
              "min     1900.000000      0.000000  98001.000000     47.155900   -122.519000  \n",
              "25%     1951.000000      0.000000  98033.000000     47.471000   -122.328000  \n",
              "50%     1975.000000      0.000000  98065.000000     47.571800   -122.230000  \n",
              "75%     1997.000000      0.000000  98118.000000     47.678000   -122.125000  \n",
              "max     2015.000000   2015.000000  98199.000000     47.777600   -121.315000  "
            ]
          },
          "execution_count": 5,
          "metadata": {},
          "output_type": "execute_result"
        }
      ],
      "source": [
        "data.describe()"
      ]
    },
    {
      "cell_type": "markdown",
      "metadata": {
        "tags": []
      },
      "source": [
        "## Data Wrangling\n"
      ]
    },
    {
      "cell_type": "markdown",
      "metadata": {},
      "source": [
        "Now I want to clean up the dataset. I begin by dropping the **\"id\"** column using the `.drop()` method as it is unnexassary for data analysis.\n"
      ]
    },
    {
      "cell_type": "code",
      "execution_count": 6,
      "metadata": {
        "trusted": true
      },
      "outputs": [],
      "source": [
        "data.drop(columns=[\"id\"], axis = 1, inplace = True)"
      ]
    },
    {
      "cell_type": "markdown",
      "metadata": {
        "tags": []
      },
      "source": [
        "Checking for missing (NaN) values using `isnull().sum()`:\n"
      ]
    },
    {
      "cell_type": "code",
      "execution_count": 7,
      "metadata": {
        "trusted": true
      },
      "outputs": [
        {
          "data": {
            "text/plain": [
              "date              0\n",
              "price             0\n",
              "bedrooms         13\n",
              "bathrooms        10\n",
              "sqft_living       0\n",
              "sqft_living15     0\n",
              "sqft_lot          0\n",
              "sqft_lot15        0\n",
              "floors            0\n",
              "waterfront        0\n",
              "view              0\n",
              "condition         0\n",
              "grade             0\n",
              "sqft_above        0\n",
              "sqft_basement     0\n",
              "yr_built          0\n",
              "yr_renovated      0\n",
              "zipcode           0\n",
              "lat               0\n",
              "long              0\n",
              "dtype: int64"
            ]
          },
          "execution_count": 7,
          "metadata": {},
          "output_type": "execute_result"
        }
      ],
      "source": [
        "data.isnull().sum()"
      ]
    },
    {
      "cell_type": "markdown",
      "metadata": {},
      "source": [
        "Since the **\"bedrooms\"** and **\"bathrooms\"** columns are missing entries, we perform imputation to replace the NaN values with the column means. To do this, we use the `.fillna()` and `.mean()` methods, then check again for NaN values to verify the imputation success."
      ]
    },
    {
      "cell_type": "code",
      "execution_count": 8,
      "metadata": {
        "trusted": true
      },
      "outputs": [
        {
          "data": {
            "text/plain": [
              "date             0\n",
              "price            0\n",
              "bedrooms         0\n",
              "bathrooms        0\n",
              "sqft_living      0\n",
              "sqft_living15    0\n",
              "sqft_lot         0\n",
              "sqft_lot15       0\n",
              "floors           0\n",
              "waterfront       0\n",
              "view             0\n",
              "condition        0\n",
              "grade            0\n",
              "sqft_above       0\n",
              "sqft_basement    0\n",
              "yr_built         0\n",
              "yr_renovated     0\n",
              "zipcode          0\n",
              "lat              0\n",
              "long             0\n",
              "dtype: int64"
            ]
          },
          "execution_count": 8,
          "metadata": {},
          "output_type": "execute_result"
        }
      ],
      "source": [
        "data['bedrooms'] = data['bedrooms'].fillna(data['bedrooms'].mean())\n",
        "data['bathrooms'] = data['bathrooms'].fillna(data['bathrooms'].mean())\n",
        "\n",
        "data.isnull().sum()"
      ]
    },
    {
      "cell_type": "markdown",
      "metadata": {},
      "source": [
        "## Exploratory Data Analysis\n"
      ]
    },
    {
      "cell_type": "markdown",
      "metadata": {},
      "source": [
        "#### Determining the total count of houses with each unique number of floors."
      ]
    },
    {
      "cell_type": "code",
      "execution_count": 9,
      "metadata": {
        "trusted": true
      },
      "outputs": [
        {
          "data": {
            "text/html": [
              "<div>\n",
              "<style scoped>\n",
              "    .dataframe tbody tr th:only-of-type {\n",
              "        vertical-align: middle;\n",
              "    }\n",
              "\n",
              "    .dataframe tbody tr th {\n",
              "        vertical-align: top;\n",
              "    }\n",
              "\n",
              "    .dataframe thead th {\n",
              "        text-align: right;\n",
              "    }\n",
              "</style>\n",
              "<table border=\"1\" class=\"dataframe\">\n",
              "  <thead>\n",
              "    <tr style=\"text-align: right;\">\n",
              "      <th></th>\n",
              "      <th>floors</th>\n",
              "      <th>count</th>\n",
              "    </tr>\n",
              "  </thead>\n",
              "  <tbody>\n",
              "    <tr>\n",
              "      <th>0</th>\n",
              "      <td>1.0</td>\n",
              "      <td>10680</td>\n",
              "    </tr>\n",
              "    <tr>\n",
              "      <th>1</th>\n",
              "      <td>2.0</td>\n",
              "      <td>8241</td>\n",
              "    </tr>\n",
              "    <tr>\n",
              "      <th>2</th>\n",
              "      <td>1.5</td>\n",
              "      <td>1910</td>\n",
              "    </tr>\n",
              "    <tr>\n",
              "      <th>3</th>\n",
              "      <td>3.0</td>\n",
              "      <td>613</td>\n",
              "    </tr>\n",
              "    <tr>\n",
              "      <th>4</th>\n",
              "      <td>2.5</td>\n",
              "      <td>161</td>\n",
              "    </tr>\n",
              "    <tr>\n",
              "      <th>5</th>\n",
              "      <td>3.5</td>\n",
              "      <td>8</td>\n",
              "    </tr>\n",
              "  </tbody>\n",
              "</table>\n",
              "</div>"
            ],
            "text/plain": [
              "   floors  count\n",
              "0     1.0  10680\n",
              "1     2.0   8241\n",
              "2     1.5   1910\n",
              "3     3.0    613\n",
              "4     2.5    161\n",
              "5     3.5      8"
            ]
          },
          "execution_count": 9,
          "metadata": {},
          "output_type": "execute_result"
        }
      ],
      "source": [
        "pd.DataFrame(data['floors'].value_counts()).reset_index()"
      ]
    },
    {
      "cell_type": "markdown",
      "metadata": {},
      "source": [
        "For houses with an integer number of floors, houses with a greater number of floors are less common. The same is seen for houses with non-integer numbers of floors. Note: a half-floor indicates a floor (typically upper) that is considerably smaller than the other, main floor(s)."
      ]
    },
    {
      "cell_type": "markdown",
      "metadata": {},
      "source": [
        "#### Determining whether houses with or without a waterfront view have a greater number of price outliers.\n",
        "Plotting a box plot with the Seaborn `boxplot()` function:"
      ]
    },
    {
      "cell_type": "code",
      "execution_count": 10,
      "metadata": {
        "trusted": true
      },
      "outputs": [
        {
          "data": {
            "image/png": "[encoded data removed]",
            "text/plain": [
              "<Figure size 640x480 with 1 Axes>"
            ]
          },
          "metadata": {},
          "output_type": "display_data"
        }
      ],
      "source": [
        "box = sns.boxplot(x=\"waterfront\", y=\"price\", data=data, color = \"#5cd6ba\")\n",
        "box.set(xlabel='Waterfront View', ylabel='Sale Price', xticks = [0,1], xticklabels = (['No', 'Yes']));\n",
        "plt.ticklabel_format(style='plain', axis='y')"
      ]
    },
    {
      "cell_type": "markdown",
      "metadata": {},
      "source": [
        "As evident in the box plot above, houses without a waterfront view have a greater number of price outliers. The median sale price is ~$500,000 for dwellings without a waterfront view, and ~$1,500,000 for those with a waterfront view. "
      ]
    },
    {
      "cell_type": "markdown",
      "metadata": {},
      "source": [
        "#### Determining the direction of correlation between **\"sqft_above\"** and price.\n",
        "Plotting a scatter plot with the Seaborn `regplot()` function:"
      ]
    },
    {
      "cell_type": "code",
      "execution_count": 11,
      "metadata": {
        "trusted": true
      },
      "outputs": [
        {
          "data": {
            "image/png": "[encoded data removed]",
            "text/plain": [
              "<Figure size 640x480 with 1 Axes>"
            ]
          },
          "metadata": {},
          "output_type": "display_data"
        }
      ],
      "source": [
        "scatter = sns.regplot(\n",
        "    x=\"sqft_above\",\n",
        "    y=\"price\",\n",
        "    data=data,\n",
        "    color=\"#4d6dff\",\n",
        "    scatter_kws={\"s\": 25, \"alpha\": 0.5, \"edgecolors\": \"white\"},\n",
        "    line_kws={\"alpha\":0.7, \"color\":'#d61e11'}\n",
        ")\n",
        "scatter.set(xlabel=\"Above-Ground Square Footage\", ylabel=\"Sale Price ($USD)\")\n",
        "plt.ticklabel_format(style=\"plain\", axis=\"y\")"
      ]
    },
    {
      "cell_type": "markdown",
      "metadata": {},
      "source": [
        "As the scatter plot shows, the above-ground square footage and sale price appear to be positively correlated."
      ]
    },
    {
      "cell_type": "markdown",
      "metadata": {},
      "source": [
        "#### Determining the feature most closely correlated with price.\n"
      ]
    },
    {
      "cell_type": "code",
      "execution_count": 12,
      "metadata": {
        "trusted": true
      },
      "outputs": [
        {
          "data": {
            "text/plain": [
              "price            1.000000\n",
              "sqft_living      0.702035\n",
              "grade            0.667434\n",
              "sqft_above       0.605567\n",
              "sqft_living15    0.585379\n",
              "bathrooms        0.525738\n",
              "view             0.397293\n",
              "sqft_basement    0.323816\n",
              "bedrooms         0.308797\n",
              "lat              0.307003\n",
              "waterfront       0.266369\n",
              "floors           0.256794\n",
              "yr_renovated     0.126434\n",
              "sqft_lot         0.089661\n",
              "sqft_lot15       0.082447\n",
              "yr_built         0.054012\n",
              "condition        0.036362\n",
              "long             0.021626\n",
              "zipcode         -0.053203\n",
              "Name: price, dtype: float64"
            ]
          },
          "execution_count": 12,
          "metadata": {},
          "output_type": "execute_result"
        }
      ],
      "source": [
        "data.corr(numeric_only=True)['price'].sort_values(ascending=False)"
      ]
    },
    {
      "cell_type": "markdown",
      "metadata": {},
      "source": [
        "Square footage of the house is most closely correlated with sale price, with a correlation coefficient of 0.702."
      ]
    },
    {
      "cell_type": "markdown",
      "metadata": {},
      "source": [
        "## Model Development\n"
      ]
    },
    {
      "cell_type": "markdown",
      "metadata": {},
      "source": [
        "To estimate a linear regression model to predict sale price using longitude, I use the `LinearRegression()` function and the longitudinal coordinate **\"long\"**. The `.score()` method is used to calculate the R-squared value."
      ]
    },
    {
      "cell_type": "code",
      "execution_count": 13,
      "metadata": {
        "trusted": true
      },
      "outputs": [
        {
          "name": "stdout",
          "output_type": "stream",
          "text": [
            "R-Squared: 0.00046769430149007363\n"
          ]
        }
      ],
      "source": [
        "X = data[['long']]\n",
        "Y = data['price']\n",
        "lm = LinearRegression()\n",
        "print(\"R-Squared:\", lm.fit(X,Y).score(X,Y))"
      ]
    },
    {
      "cell_type": "markdown",
      "metadata": {},
      "source": [
        "Similarly, to estimate a linear regression model to predict sale price using the square footage of a house, I use the `LinearRegression()` function and the **\"sqft_living\"** feature. Again, the `.score()` method is used to calculate the R-squared value."
      ]
    },
    {
      "cell_type": "code",
      "execution_count": 14,
      "metadata": {
        "trusted": true
      },
      "outputs": [
        {
          "name": "stdout",
          "output_type": "stream",
          "text": [
            "Predicted values: [287555.06702452 677621.82640197 172499.40418656 ... 242655.29616092\n",
            " 405416.96554144 242655.29616092]\n",
            "R-Squared: 0.4928532179037931\n"
          ]
        }
      ],
      "source": [
        "X = data[['sqft_living']]\n",
        "Y = data['price']\n",
        "lm = LinearRegression()\n",
        "lm.fit(X,Y)\n",
        "print('Predicted values:', lm.predict(data[['sqft_living']]))\n",
        "print('R-Squared:', lm.score(X, Y))\n"
      ]
    },
    {
      "cell_type": "markdown",
      "metadata": {},
      "source": [
        "Fitting a linear regression model to predict the sale price using the list of features, then calculating the R-squared value. "
      ]
    },
    {
      "cell_type": "code",
      "execution_count": 15,
      "metadata": {
        "trusted": true
      },
      "outputs": [],
      "source": [
        "features = [\"floors\", \"waterfront\", \"lat\", \"bedrooms\", \"sqft_basement\", \"view\", \"bathrooms\", \"sqft_above\", \"grade\", \"sqft_living\", \"sqft_living15\", \"sqft_lot\", \"sqft_lot15\"]     "
      ]
    },
    {
      "cell_type": "code",
      "execution_count": 16,
      "metadata": {
        "trusted": true
      },
      "outputs": [
        {
          "name": "stdout",
          "output_type": "stream",
          "text": [
            "Predicted values: [285158.81451117 664348.40392623 308833.9202791  ... 304999.54568942\n",
            " 430521.79771803 305131.95595333]\n",
            "R-Squared: 0.6587488268381336\n"
          ]
        }
      ],
      "source": [
        "X = data[features]\n",
        "y = data['price']\n",
        "lm = LinearRegression().fit(X, y)\n",
        "print('Predicted values:', lm.predict(data[features]))\n",
        "print('R-Squared:', lm.score(X, Y))"
      ]
    },
    {
      "cell_type": "markdown",
      "metadata": {},
      "source": [
        "Next, I will make a pipeline object. First, I will make a list of the estimators and their model constructors to be used. "
      ]
    },
    {
      "cell_type": "code",
      "execution_count": 17,
      "metadata": {
        "trusted": true
      },
      "outputs": [],
      "source": [
        "Input= [('scale', StandardScaler()),('polynomial', PolynomialFeatures(include_bias=False)), ('model',LinearRegression())]"
      ]
    },
    {
      "cell_type": "markdown",
      "metadata": {},
      "source": [
        "Using this list, creating a pipeline object to predict the `price`, fitting the object using the features in the list `features`, and calculating the R-squared."
      ]
    },
    {
      "cell_type": "code",
      "execution_count": 18,
      "metadata": {
        "trusted": true
      },
      "outputs": [
        {
          "name": "stdout",
          "output_type": "stream",
          "text": [
            "R-Squared: 0.7617598504501368\n"
          ]
        }
      ],
      "source": [
        "X = data[features]\n",
        "Y = data['price']\n",
        "\n",
        "Input=[('scale',StandardScaler()),('polynomial', PolynomialFeatures(include_bias=False)),('model',LinearRegression())]\n",
        "pipe = Pipeline(Input)\n",
        "\n",
        "pipe.fit(X,Y)\n",
        "print('R-Squared:', pipe.score(X,Y))"
      ]
    },
    {
      "cell_type": "markdown",
      "metadata": {},
      "source": [
        "## Model Evaluation and Refinement\n"
      ]
    },
    {
      "cell_type": "markdown",
      "metadata": {},
      "source": [
        "Now I will evaluate the linear regression with a ridge regression object. Firstly, the necessary libraries are imported. "
      ]
    },
    {
      "cell_type": "code",
      "execution_count": 19,
      "metadata": {
        "trusted": true
      },
      "outputs": [],
      "source": [
        "from sklearn.model_selection import cross_val_score\n",
        "from sklearn.model_selection import train_test_split\n",
        "from sklearn.linear_model import Ridge"
      ]
    },
    {
      "cell_type": "markdown",
      "metadata": {},
      "source": [
        "The data is then split into training and testing sets:"
      ]
    },
    {
      "cell_type": "code",
      "execution_count": 20,
      "metadata": {
        "trusted": true
      },
      "outputs": [
        {
          "name": "stdout",
          "output_type": "stream",
          "text": [
            "Test sample count: 3242\n",
            "Training sample count: 18371\n"
          ]
        }
      ],
      "source": [
        "X = data[features]\n",
        "Y = data['price']\n",
        "\n",
        "x_train, x_test, y_train, y_test = train_test_split(X, Y, test_size=0.15, random_state=1)\n",
        "\n",
        "print(\"Test sample count:\", x_test.shape[0])\n",
        "print(\"Training sample count:\",x_train.shape[0])"
      ]
    },
    {
      "cell_type": "markdown",
      "metadata": {},
      "source": [
        "Creating and fitting a Ridge regression object using the training data, then calculating the R-squared value with the test data:"
      ]
    },
    {
      "cell_type": "code",
      "execution_count": 21,
      "metadata": {
        "trusted": true
      },
      "outputs": [
        {
          "name": "stdout",
          "output_type": "stream",
          "text": [
            "R-squared: 0.6485625296721061\n"
          ]
        }
      ],
      "source": [
        "Ridge_test = Ridge(alpha = 0.1)\n",
        "Ridge_test.fit(x_train, y_train)\n",
        "print('R-squared:',Ridge_test.score(x_test, y_test))"
      ]
    },
    {
      "cell_type": "markdown",
      "metadata": {},
      "source": [
        "Finally, I will perform a second order polynomial transform on both data sets, then create and fit another Ridge regression object:"
      ]
    },
    {
      "cell_type": "code",
      "execution_count": 22,
      "metadata": {
        "trusted": true
      },
      "outputs": [],
      "source": [
        "poly = PolynomialFeatures(degree=2)\n",
        "\n",
        "x_train_poly = poly.fit_transform(x_train)\n",
        "x_test_poly = poly.fit_transform(x_test)"
      ]
    },
    {
      "cell_type": "markdown",
      "metadata": {},
      "source": [
        "Creating another Ridge regression object, this time on the transformed training data. The test data is used to calculate the R-squared."
      ]
    },
    {
      "cell_type": "code",
      "execution_count": 23,
      "metadata": {},
      "outputs": [
        {
          "name": "stdout",
          "output_type": "stream",
          "text": [
            "R-squared: 0.7237873411826418\n"
          ]
        }
      ],
      "source": [
        "Ridge_test = Ridge(alpha = 0.1)\n",
        "Ridge_test.fit(x_train_poly, y_train)\n",
        "print('R-squared:',Ridge_test.score(x_test_poly, y_test))"
      ]
    },
    {
      "cell_type": "markdown",
      "metadata": {},
      "source": [
        "After the polynomial transform, the R-squared value increases, suggesting the data is a better fit to a second-order polynomial model rather than the initial linear model. This however, is not conclusive and should not be interpreted as fact. Although the increase in R-squared often indicates an improved fit, the second-order polynomial model may not be the optimal model for sale price prediction. While the Ridge regression method reduces the impact of overfitting and multicollinearity, additional model evaluation techniques with cross-validation can help further confirm whether the increase in R-squared is significant, or due to overfitting."
      ]
    }
  ],
  "metadata": {
    "kernelspec": {
      "display_name": "Python 3",
      "language": "python",
      "name": "python3"
    },
    "language_info": {
      "codemirror_mode": {
        "name": "ipython",
        "version": 3
      },
      "file_extension": ".py",
      "mimetype": "text/x-python",
      "name": "python",
      "nbconvert_exporter": "python",
      "pygments_lexer": "ipython3",
      "version": "3.11.8"
    }
  },
  "nbformat": 4,
  "nbformat_minor": 4
}
